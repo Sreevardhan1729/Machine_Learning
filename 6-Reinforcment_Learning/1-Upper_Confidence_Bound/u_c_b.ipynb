{
 "cells": [
  {
   "cell_type": "code",
   "execution_count": 1,
   "metadata": {},
   "outputs": [],
   "source": [
    "import numpy as np\n",
    "import pandas as pd\n",
    "import matplotlib.pyplot as plt"
   ]
  },
  {
   "cell_type": "code",
   "execution_count": 2,
   "metadata": {},
   "outputs": [],
   "source": [
    "df=pd.read_csv(\"Ads_CTR_Optimisation.csv\")"
   ]
  },
  {
   "cell_type": "code",
   "execution_count": 3,
   "metadata": {},
   "outputs": [],
   "source": [
    "import math\n",
    "N=10000\n",
    "d=10\n",
    "ad_selected=[]\n",
    "number_of_selection=[0]*d\n",
    "sum_of_rewards=[0]*d\n",
    "total_reward=0\n",
    "for n in range(N):\n",
    "    ad=0\n",
    "    max_upper_bound=0\n",
    "    for i in range(d):\n",
    "        if number_of_selection[i]>0:\n",
    "            average_reward=sum_of_rewards[i]/number_of_selection[i]\n",
    "            delta_i= math.sqrt(3/2 *math.log(n+1)/number_of_selection[i])\n",
    "            upper_bound=delta_i+average_reward\n",
    "        else:\n",
    "            upper_bound= 1e400\n",
    "        if(upper_bound>max_upper_bound):\n",
    "            max_upper_bound=upper_bound\n",
    "            ad=i\n",
    "    ad_selected.append(ad)\n",
    "    number_of_selection[ad]+=1\n",
    "    sum_of_rewards[ad]+=df.values[n,ad]\n",
    "    total_reward+=df.values[n,ad]"
   ]
  },
  {
   "cell_type": "code",
   "execution_count": null,
   "metadata": {},
   "outputs": [],
   "source": [
    "plt.hist(ad_selected)\n",
    "plt.title(\"Histogram of ad selections\")"
   ]
  }
 ],
 "metadata": {
  "kernelspec": {
   "display_name": "Python 3",
   "language": "python",
   "name": "python3"
  },
  "language_info": {
   "codemirror_mode": {
    "name": "ipython",
    "version": 3
   },
   "file_extension": ".py",
   "mimetype": "text/x-python",
   "name": "python",
   "nbconvert_exporter": "python",
   "pygments_lexer": "ipython3",
   "version": "3.9.6"
  }
 },
 "nbformat": 4,
 "nbformat_minor": 2
}
